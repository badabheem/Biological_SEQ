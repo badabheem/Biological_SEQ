{
  "cells": [
    {
      "cell_type": "markdown",
      "metadata": {
        "id": "view-in-github",
        "colab_type": "text"
      },
      "source": [
        "<a href=\"https://colab.research.google.com/github/badabheem/Biological_SEQ/blob/main/Welcome_To_Colab.ipynb\" target=\"_parent\"><img src=\"https://colab.research.google.com/assets/colab-badge.svg\" alt=\"Open In Colab\"/></a>"
      ]
    },
    {
      "cell_type": "code",
      "source": [
        "#Piyush Kumar Yadav\n",
        "#Calling Lib from biopython pacakges\n",
        "from Bio.Seq import Seq\n",
        "#Declare a variable\n",
        "dna = Seq(\"ATATAACCCATATACGGATAGTCTACTGATGATCGAACGTAGCTA\")\n",
        "print(\"This is a DNA seq:\",dna)\n",
        "print(\"This is a Compliment Seq:\",dna.complement())\n",
        "print(\"Reverse complement DNA Seq:\",dna.reverse_complement())\n",
        "print(\"mRNA Seq:\",dna.transcribe())\n",
        "print(\"Protein Seq:\",dna.translate())"
      ],
      "metadata": {
        "id": "wVQ83TeCWWxw"
      },
      "execution_count": null,
      "outputs": []
    }
  ],
  "metadata": {
    "colab": {
      "name": "Welcome To Colab",
      "toc_visible": true,
      "provenance": [],
      "include_colab_link": true
    },
    "kernelspec": {
      "display_name": "Python 3",
      "name": "python3"
    }
  },
  "nbformat": 4,
  "nbformat_minor": 0
}